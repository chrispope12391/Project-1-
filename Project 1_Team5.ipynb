{
 "cells": [
  {
   "cell_type": "code",
   "execution_count": null,
   "metadata": {},
   "outputs": [],
   "source": [
    "import os\n",
    "import csv\n",
    "import pandas as pd\n",
    "import matplotlib.pyplot as plt\n",
    "import numpy as np\n",
    "from scipy.stats import linregress\n",
    "import requests\n",
    "import json"
   ]
  },
  {
   "cell_type": "code",
   "execution_count": null,
   "metadata": {},
   "outputs": [],
   "source": [
    "#file path\n",
    "#Import clean csv file\n",
    "project_df_path = \"Data/merge.csv\"\n",
    "project_df = pd.read_csv(project_df_path)\n",
    "project_df.head()"
   ]
  },
  {
   "cell_type": "code",
   "execution_count": null,
   "metadata": {},
   "outputs": [],
   "source": [
    "#see dataframe column as a list\n",
    "#project_df.columns.tolist()"
   ]
  },
  {
   "cell_type": "code",
   "execution_count": null,
   "metadata": {},
   "outputs": [],
   "source": [
    "#number of participating countries\n",
    "project_df[\"Country or region_HS\"].unique()"
   ]
  },
  {
   "cell_type": "code",
   "execution_count": null,
   "metadata": {},
   "outputs": [],
   "source": [
    "#suppress warning\n",
    "import warnings\n",
    "warnings.simplefilter(\"ignore\")"
   ]
  },
  {
   "cell_type": "code",
   "execution_count": null,
   "metadata": {},
   "outputs": [],
   "source": [
    "#Get ranking and totals data\n",
    "totals_df = project_df[['Year_HS', 'Country_SP', 'Overall rank_HS', 'Score_HS', 'SPI Rank_SP',  'Social Progress Index_SP']]\n",
    "\n",
    "#Rename year and country columns\n",
    "totals_df.rename(columns = {\"Year_HS\":\"Year\", \"Country_SP\":\"Country\"}, inplace = True)\n",
    "\n",
    "#configure SPI ranking to not have a decimal\n",
    "totals_df[\"SPI Rank_SP\"] = totals_df[\"SPI Rank_SP\"].astype(int)\n",
    "\n",
    "#renaming columns to get rid of spaces\n",
    "totals_df.rename(columns={\"Overall rank_HS\":\"Rank_HS\"}, inplace=True)\n",
    "totals_df.rename(columns={\"SPI Rank_SP\":\"Rank_SPI\"}, inplace=True)"
   ]
  },
  {
   "cell_type": "code",
   "execution_count": null,
   "metadata": {},
   "outputs": [],
   "source": [
    "#Top Rankings of Happiness Score\n",
    "#ranking_HS = totals_df.sort_values([\"Year\",\"Rank_HS\"])\n",
    "#ranking_HS"
   ]
  },
  {
   "cell_type": "code",
   "execution_count": null,
   "metadata": {},
   "outputs": [],
   "source": [
    "#Top Rankings of Social Progress Index\n",
    "#ranking_SP = totals_df.sort_values([\"Year\",\"Rank_SPI\"])\n",
    "#ranking_SP"
   ]
  },
  {
   "cell_type": "code",
   "execution_count": null,
   "metadata": {},
   "outputs": [],
   "source": [
    "ranking_both_top10 = totals_df[(totals_df[\"Rank_HS\"] <= 10) & (totals_df[\"Rank_SPI\"] <= 10)]\n",
    "#use \\ (vertical bar for either condiation)\n",
    "ranking_both_top10"
   ]
  },
  {
   "cell_type": "code",
   "execution_count": null,
   "metadata": {},
   "outputs": [],
   "source": [
    "ranking_HS = ranking_both_top10.sort_values([\"Rank_HS\"])"
   ]
  },
  {
   "cell_type": "code",
   "execution_count": null,
   "metadata": {},
   "outputs": [],
   "source": [
    "ranking_SPI = ranking_both_top10.sort_values([\"Rank_SPI\"])\n",
    "#ranking_SPI"
   ]
  },
  {
   "cell_type": "code",
   "execution_count": null,
   "metadata": {},
   "outputs": [],
   "source": [
    "ranking_country = ranking_both_top10.sort_values([\"Country\"])\n",
    "ranking_country"
   ]
  },
  {
   "cell_type": "code",
   "execution_count": null,
   "metadata": {},
   "outputs": [],
   "source": [
    "ranking_top10 = ranking_both_top10.groupby([\"Country\",\"Rank_HS\",\"Rank_SPI\"])\n",
    "ranking_top10.count()"
   ]
  },
  {
   "cell_type": "code",
   "execution_count": null,
   "metadata": {},
   "outputs": [],
   "source": [
    "count10 = ranking_top10[\"Rank_SPI\"].count()\n",
    "count10"
   ]
  },
  {
   "cell_type": "code",
   "execution_count": null,
   "metadata": {},
   "outputs": [],
   "source": [
    "#Scatterplot all years \n",
    "x_values = ranking_both_top10[\"Rank_HS\"]\n",
    "y_values = ranking_both_top10[\"Rank_SPI\"]"
   ]
  },
  {
   "cell_type": "code",
   "execution_count": null,
   "metadata": {},
   "outputs": [],
   "source": [
    "plt.title(\"Top 10 Social Progress and Happiness Rankings (2015-2019)\")\n",
    "plt.ylabel(\" Social Progress Rank\")\n",
    "plt.xlabel(\"Happiness Rank\")\n",
    "plt.ylim(0,11)\n",
    "plt.xlim(0,11)\n",
    "plt.grid(True, linestyle=\"-\", which=\"major\", color=\"gray\", alpha=0.25)\n",
    "\n",
    "plt.scatter(x_values, y_values, color=\"black\", marker=\"o\")\n",
    "plt.show()\n"
   ]
  },
  {
   "cell_type": "code",
   "execution_count": null,
   "metadata": {},
   "outputs": [],
   "source": [
    "#plot_country = ranking_country[\"Country\"].to_list()\n",
    "#plot_HS_rank = ranking_country[\"Rank_HS\"].to_list()\n",
    "#plot_SPI_rank = ranking_country[\"Rank_SPI\"].to_list()\n",
    "#plot_HS_rank\n",
    "#plot_SPI_rank\n",
    "#plot_country"
   ]
  },
  {
   "cell_type": "code",
   "execution_count": null,
   "metadata": {},
   "outputs": [],
   "source": [
    "#Create variable for list of ranking data\n",
    "plot_HS_rank = ranking_country[\"Rank_HS\"].to_list()\n",
    "\n",
    "plot_SPI_rank = ranking_country[\"Rank_SPI\"].to_list()\n",
    "\n",
    "country = ranking_country[\"Country\"].to_list()\n"
   ]
  },
  {
   "cell_type": "code",
   "execution_count": null,
   "metadata": {},
   "outputs": [],
   "source": [
    "#Create variable to add and inverse the rankings so the smallest number for the ranking displays a larger dot using list comprehension.\n",
    "#https://www.geeksforgeeks.org/python-adding-two-list-elements/\n",
    "#display_dot = [plot_HS_rank[i] + plot_SPI_rank[i] for i in range(len(plot_HS_rank))]\n",
    "\n",
    "display_dot = [float(plot_HS_rank[i]) + float(plot_SPI_rank[i]) for i in range(len(plot_HS_rank))]\n",
    "\n",
    "#Find reciprocal\n",
    "#https://www.geeksforgeeks.org/numpy-reciprocal\n",
    "display_dot_inv = np.reciprocal(display_dot)\n",
    "\n",
    "#display_dot\n",
    "#display_dot_inv"
   ]
  },
  {
   "cell_type": "code",
   "execution_count": null,
   "metadata": {},
   "outputs": [],
   "source": [
    "#Scatterplot of the two rankings with cities that rank 1-10 in both.\n",
    "#https://stackoverflow.com/questions/26139423/plot-different-color-for-different-categorical-levels-using-matplotlib\n",
    "#https://python-graph-gallery.com/270-basic-bubble-plot/\n",
    "\n",
    "df = pd.DataFrame(dict(plot_HS_rank=plot_HS_rank, plot_SPI_rank=plot_SPI_rank, country=country, display_dot_inv=display_dot_inv))\n",
    "fig, ax = plt.subplots()\n",
    "plt.rcParams[\"figure.figsize\"] = (7,7)\n",
    "\n",
    "colors = {'Australia':'crimson', 'Canada':'darkviolet', 'Denmark':'green', 'Finland':'deepskyblue', 'Netherlands':'gold', 'New Zealand':'orange', 'Norway':'mediumblue', 'Sweden':'teal', 'Switzerland':'yellowgreen'}\n",
    "scatter = ax.scatter(df['plot_HS_rank'], df['plot_SPI_rank'], s=df['display_dot_inv']*2500, c=df['country'].apply(lambda x: colors[x]))\n",
    "legend1 = ax.legend(*scatter.legend_elements(), loc=\"lower right\", title=\"Countries\")\n",
    "\n",
    "plt.ylim(-1,11)\n",
    "plt.xlim(-1,11)\n",
    "plt.title(\"Countries that Rank in the Top 10 in Both \\n Social Progress and Happiness Rankings (2015-2019)\", fontsize=15)\n",
    "plt.ylabel(\" Social Progress Rank\", fontsize=12)\n",
    "plt.xlabel(\"Happiness Rank\", fontsize=12)\n",
    "plt.grid(True, linestyle=\"-\", which=\"major\", color=\"gray\", alpha=0.25)\n",
    "\n",
    "#plt.savefig(\"Data/TopTenRanking.png\")\n",
    "plt.show()"
   ]
  },
  {
   "cell_type": "code",
   "execution_count": null,
   "metadata": {
    "scrolled": true
   },
   "outputs": [],
   "source": [
    "groups = ranking_country.groupby(\"Country\")\n",
    "colors = {'Australia':'crimson', 'Canada':'darkviolet', 'Denmark':'green', 'Finland':'deepskyblue', 'Netherlands':'gold', 'New Zealand':'orange', 'Norway':'mediumblue', 'Sweden':'teal', 'Switzerland':'yellowgreen'}\n",
    "\n",
    "for name, group in groups:\n",
    "    plt.plot(group[\"Rank_HS\"], group[\"Rank_SPI\"], marker=\"o\", markersize=20, linestyle=\"\", label=name,)\n",
    "\n",
    "plt.rcParams[\"figure.figsize\"] = (7,7)\n",
    "plt.rcParams[\"legend.markerscale\"] = 0.4\n",
    "\n",
    "plt.ylim(-1,11)\n",
    "plt.xlim(-1,11)\n",
    "plt.title(\"Countries that Rank in the Top 10 in Both \\n Social Progress and Happiness Rankings (2015-2019)\", fontsize=15)\n",
    "plt.ylabel(\" Social Progress Rank\", fontsize=12)\n",
    "plt.xlabel(\"Happiness Rank\", fontsize=12)\n",
    "plt.grid(True, linestyle=\"-\", which=\"major\", color=\"gray\", alpha=0.25)\n",
    "plt.legend()\n",
    "\n",
    "#plt.savefig(\"Data/TopTenRanking-alternate.png\")\n",
    "plt.show()"
   ]
  },
  {
   "cell_type": "code",
   "execution_count": null,
   "metadata": {},
   "outputs": [],
   "source": [
    "#Scatterplot all years \n",
    "x_values = totals_df[\"Score_HS\"]\n",
    "y_values = totals_df[\"Social Progress Index_SP\"]\n",
    "\n",
    "(slope, intercept, rvalue, pvalue, stderr) = linregress(x_values, y_values)\n",
    "regress_values = slope * x_values + intercept\n",
    "line_eq = \"y =\" + str(round(slope,2)) + \"x \" + str(round(intercept,2))\n",
    "\n",
    "plt.rcParams[\"figure.figsize\"] = (7,7)\n",
    "\n",
    "plt.title(\"Social Progress Index and Happiness Scores \\n for All Countries (2015-2019)\",  fontsize=15)\n",
    "plt.ylabel(\" Social Progress Index\",  fontsize=12)\n",
    "plt.xlabel(\"Happiness Score\",  fontsize=12)\n",
    "plt.ylim(20,100)\n",
    "plt.xlim(0,10)\n",
    "plt.grid(True, linestyle=\"-\", which=\"major\", color=\"gray\", alpha=0.25)\n",
    "plt.annotate(line_eq, (2,30), fontsize=12, color=\"red\")\n",
    "\n",
    "plt.scatter(x_values, y_values, color=\"black\", marker=\"o\")\n",
    "plt.plot(x_values, regress_values, \"r-\")\n",
    "\n",
    "#plt.savefig(\"Data/HP_SPI_scatter.png\")\n",
    "\n",
    "plt.show()\n",
    "\n",
    "#print r squared\n",
    "print(f\"R squared: {rvalue**2}\")"
   ]
  },
  {
   "cell_type": "code",
   "execution_count": null,
   "metadata": {},
   "outputs": [],
   "source": [
    "#Group by country\n",
    "grouped_totals_df = totals_df.groupby([\"Country\"])\n",
    "grouped_totals_df.mean()"
   ]
  },
  {
   "cell_type": "code",
   "execution_count": null,
   "metadata": {},
   "outputs": [],
   "source": [
    "#Converting groupby to a dataframe\n",
    "averages_df = pd.DataFrame(grouped_totals_df[\"Rank_HS\", \"Score_HS\", \"Rank_SPI\", \"Social Progress Index_SP\"].mean())"
   ]
  },
  {
   "cell_type": "code",
   "execution_count": null,
   "metadata": {
    "scrolled": true
   },
   "outputs": [],
   "source": [
    "#Scatterplot averaged data \n",
    "x_values = averages_df[\"Score_HS\"]\n",
    "y_values = averages_df[\"Social Progress Index_SP\"]\n",
    "\n",
    "plt.rcParams[\"figure.figsize\"] = (7,7)\n",
    "\n",
    "(slope, intercept, rvalue, pvalue, stderr) = linregress(x_values, y_values)\n",
    "regress_values = slope * x_values + intercept\n",
    "line_eq = \"y =\" + str(round(slope,2)) + \"x \" + str(round(intercept,2))\n",
    "\n",
    "plt.title(\"5-year Average Social Progress Index \\n and Happiness Score for Each Country\",  fontsize=15)\n",
    "plt.ylabel(\" Social Progress Index\",  fontsize=12)\n",
    "plt.xlabel(\"Happiness Score\",  fontsize=12)\n",
    "plt.ylim(20,100)\n",
    "plt.xlim(0,10)\n",
    "plt.grid(True, linestyle=\"-\", which=\"major\", color=\"gray\", alpha=0.25)\n",
    "plt.annotate(line_eq, (2,30), fontsize=12, color=\"red\")\n",
    "\n",
    "plt.scatter(x_values, y_values, color=\"black\", marker=\"o\")\n",
    "plt.plot(x_values, regress_values, \"r-\")\n",
    "\n",
    "#plt.savefig(\"Data/HP_SPI_5average_scatter.png\")\n",
    "\n",
    "plt.show()\n",
    "\n",
    "#print r squared\n",
    "print(f\"R squared: {rvalue**2}\")"
   ]
  },
  {
   "cell_type": "markdown",
   "metadata": {},
   "source": [
    "# Analysis of Relationships between Social Progress Indicators and Happiness Score"
   ]
  },
  {
   "cell_type": "markdown",
   "metadata": {},
   "source": [
    "### Basic Human Needs vs. Happiness Linear Regression"
   ]
  },
  {
   "cell_type": "code",
   "execution_count": null,
   "metadata": {},
   "outputs": [],
   "source": [
    "# Add the linear regression equation and line to plot\n",
    "y_values = project_df['Score_HS']\n",
    "x_values = project_df['Basic Human Needs_SP']\n",
    "(slope, intercept, rvalue, pvalue, stderr) = linregress(x_values, y_values)\n",
    "regress_values = x_values * slope + intercept\n",
    "line_eq = \"y = \" + str(round(slope,2)) + \"x + \" + str(round(intercept,2))\n",
    "plt.scatter(x_values,y_values, edgecolors= \"black\")\n",
    "plt.plot(x_values,regress_values,\"r-\")\n",
    "plt.annotate(line_eq,(40,6),fontsize=15,color=\"red\")\n",
    "\n",
    "# Labels\n",
    "plt.title('Basic Human Needs vs. Happiness Linear Regression')\n",
    "plt.ylabel('Hapiness Score')\n",
    "plt.xlabel('Basic Human Needs Score')\n",
    "plt.grid()\n",
    "plt.show()"
   ]
  },
  {
   "cell_type": "code",
   "execution_count": null,
   "metadata": {},
   "outputs": [],
   "source": [
    "score = f\"The r value is: {rvalue}\"\n",
    "if rvalue == 0:\n",
    "    relationship = \"none existant\"\n",
    "    strength = \"\"\n",
    "else:\n",
    "    if rvalue > 0:\n",
    "        relationship = \"positive\"\n",
    "    else:\n",
    "        relationship = \"negative\"\n",
    "\n",
    "if abs(rvalue) >= .7:\n",
    "    strength = \"strong\"\n",
    "elif abs(rvalue) >= .5:\n",
    "    strength = \"moderate\"\n",
    "elif abs(rvalue) >= .3 and rvalue != 0:\n",
    "    strength = \"weak\"\n",
    "    \n",
    "print(f\"The r value is: {rvalue}.  This is a {strength} {relationship} relationship\")"
   ]
  },
  {
   "cell_type": "markdown",
   "metadata": {},
   "source": [
    "### Foundations of Wellbeing vs Happiness Linear Regression"
   ]
  },
  {
   "cell_type": "code",
   "execution_count": null,
   "metadata": {},
   "outputs": [],
   "source": [
    "# Add the linear regression equation and line to plot\n",
    "y_values = project_df['Score_HS']\n",
    "x_values = project_df['Foundations of Wellbeing_SP']\n",
    "(slope, intercept, rvalue, pvalue, stderr) = linregress(x_values, y_values)\n",
    "regress_values = x_values * slope + intercept\n",
    "line_eq = \"y = \" + str(round(slope,2)) + \"x + \" + str(round(intercept,2))\n",
    "plt.scatter(x_values,y_values, edgecolors= \"black\")\n",
    "plt.plot(x_values,regress_values,\"r-\")\n",
    "plt.annotate(line_eq,(70,4),fontsize=15,color=\"red\")\n",
    "\n",
    "# Labels\n",
    "plt.title('Foundations of Wellbeing  vs. Happiness Linear Regression')\n",
    "plt.ylabel('Hapiness Score')\n",
    "plt.xlabel('Foundations of Wellbeing Score')\n",
    "plt.grid()\n",
    "plt.show()"
   ]
  },
  {
   "cell_type": "code",
   "execution_count": null,
   "metadata": {},
   "outputs": [],
   "source": [
    "score = f\"The r value is: {rvalue}\"\n",
    "if rvalue == 0:\n",
    "    relationship = \"none existant\"\n",
    "    strength = \"\"\n",
    "else:\n",
    "    if rvalue > 0:\n",
    "        relationship = \"positive\"\n",
    "    else:\n",
    "        relationship = \"negative\"\n",
    "\n",
    "if abs(rvalue) >= .7:\n",
    "    strength = \"strong\"\n",
    "elif abs(rvalue) >= .5:\n",
    "    strength = \"moderate\"\n",
    "elif abs(rvalue) >= .3 and rvalue != 0:\n",
    "    strength = \"weak\"\n",
    "    \n",
    "print(f\"The r value is: {rvalue}.  This is a {strength} {relationship} relationship\")"
   ]
  },
  {
   "cell_type": "markdown",
   "metadata": {},
   "source": [
    "### Opportunity vs. Happiness Linear Regression"
   ]
  },
  {
   "cell_type": "code",
   "execution_count": null,
   "metadata": {},
   "outputs": [],
   "source": [
    "# Add the linear regression equation and line to plot\n",
    "y_values = project_df['Score_HS']\n",
    "x_values = project_df['Opportunity_SP']\n",
    "(slope, intercept, rvalue, pvalue, stderr) = linregress(x_values, y_values)\n",
    "regress_values = x_values * slope + intercept\n",
    "line_eq = \"y = \" + str(round(slope,2)) + \"x + \" + str(round(intercept,2))\n",
    "plt.scatter(x_values,y_values, edgecolors= \"black\")\n",
    "plt.plot(x_values,regress_values,\"r-\")\n",
    "plt.annotate(line_eq,(60,3.5),fontsize=15,color=\"red\")\n",
    "\n",
    "# Labels\n",
    "plt.title('Opportunity  vs. Happiness Linear Regression')\n",
    "plt.ylabel('Hapiness Score')\n",
    "plt.xlabel('Foundations of Wellbeing Score')\n",
    "plt.grid()\n",
    "plt.show()"
   ]
  },
  {
   "cell_type": "code",
   "execution_count": null,
   "metadata": {
    "scrolled": true
   },
   "outputs": [],
   "source": [
    "score = f\"The r value is: {rvalue}\"\n",
    "if rvalue == 0:\n",
    "    relationship = \"none existant\"\n",
    "    strength = \"\"\n",
    "else:\n",
    "    if rvalue > 0:\n",
    "        relationship = \"positive\"\n",
    "    else:\n",
    "        relationship = \"negative\"\n",
    "\n",
    "if abs(rvalue) >= .7:\n",
    "    strength = \"strong\"\n",
    "elif abs(rvalue) >= .5:\n",
    "    strength = \"moderate\"\n",
    "elif abs(rvalue) >= .3 and rvalue != 0:\n",
    "    strength = \"weak\"\n",
    "    \n",
    "print(f\"The r value is: {rvalue}.  This is a {strength} {relationship} relationship\")"
   ]
  },
  {
   "cell_type": "markdown",
   "metadata": {},
   "source": [
    "### Happiness Linear Regression Analysis"
   ]
  },
  {
   "cell_type": "markdown",
   "metadata": {},
   "source": [
    "Each of the r-values found in this analysis showed a strong positive correlation of around .73-.74.  \n",
    "\n",
    "This shows us that Basic Human Needs, Foundations of Wellness, and Opportunity (as defined by the Social Progress Index) all increases while happiness increases.  A further analysis to find more interesting correlations in the data was conducted below by looking at all Social Progress Indicators instead of just the high level categories looked at here."
   ]
  },
  {
   "cell_type": "markdown",
   "metadata": {},
   "source": [
    "# Finding Social Progress Indicator Sub-metrics with Strongest Correlation to Happiness Score"
   ]
  },
  {
   "cell_type": "code",
   "execution_count": null,
   "metadata": {},
   "outputs": [],
   "source": [
    "# Create lists for storage of information\n",
    "sub_metric_list = []\n",
    "rvalue_list = []\n",
    "\n",
    "# Select only columns relating to Social Progress Indicators\n",
    "submetric_df = project_df.iloc[:, 22:84]\n",
    "\n",
    "# Iterate through the submetric data frame and store rvalues and submetric label for each\n",
    "for column in submetric_df:\n",
    "    submetric_string = column[:-3]\n",
    "    y_values = project_df['Score_HS']\n",
    "    x_values = project_df[column]\n",
    "    (slope, intercept, rvalue, pvalue, stderr) = linregress(x_values, y_values)\n",
    "    sub_metric_list.append(submetric_string)\n",
    "    rvalue_list.append(rvalue)\n",
    "    \n",
    "# Store lists in a dictionary\n",
    "submetric_results_dict = {\n",
    "    'Sub Metric' : sub_metric_list,\n",
    "    'R Value' : rvalue_list\n",
    "}\n",
    "\n",
    "# Create a dataframe with the dictionary\n",
    "submetric_results_df = pd.DataFrame(data = submetric_results_dict)"
   ]
  },
  {
   "cell_type": "markdown",
   "metadata": {},
   "source": [
    "### Positive Relationship Results"
   ]
  },
  {
   "cell_type": "code",
   "execution_count": null,
   "metadata": {},
   "outputs": [],
   "source": [
    "positive_results_df = submetric_results_df.loc[submetric_results_df['R Value'] >= 0]\n",
    "weak_pos_results_df = positive_results_df.sort_values(by=['R Value'])\n",
    "strong_pos_results_df = positive_results_df.sort_values(by=['R Value'], ascending = False)"
   ]
  },
  {
   "cell_type": "markdown",
   "metadata": {},
   "source": [
    "<b>Strongest Positive Indicators of Happiness</b>"
   ]
  },
  {
   "cell_type": "code",
   "execution_count": null,
   "metadata": {},
   "outputs": [],
   "source": [
    "strong_pos_results_df.head()"
   ]
  },
  {
   "cell_type": "markdown",
   "metadata": {},
   "source": [
    "<b>Weakest Positive Indicators of Happiness</b>"
   ]
  },
  {
   "cell_type": "code",
   "execution_count": null,
   "metadata": {},
   "outputs": [],
   "source": [
    "weak_pos_results_df.head()"
   ]
  },
  {
   "cell_type": "markdown",
   "metadata": {},
   "source": [
    "### Negative Relationship Results"
   ]
  },
  {
   "cell_type": "code",
   "execution_count": null,
   "metadata": {},
   "outputs": [],
   "source": [
    "negative_results_df = submetric_results_df.loc[submetric_results_df['R Value'] < 0]\n",
    "strong_neg_results_df = negative_results_df.sort_values(by=['R Value'])\n",
    "weak_neg_results_df = negative_results_df.sort_values(by=['R Value'], ascending = False)"
   ]
  },
  {
   "cell_type": "markdown",
   "metadata": {},
   "source": [
    "<b>Strongest Negative Indicators of Happiness</b>"
   ]
  },
  {
   "cell_type": "code",
   "execution_count": null,
   "metadata": {},
   "outputs": [],
   "source": [
    "strong_neg_results_df.head()"
   ]
  },
  {
   "cell_type": "markdown",
   "metadata": {},
   "source": [
    "<b>Weakest Negative Indicators of Happiness</b>"
   ]
  },
  {
   "cell_type": "code",
   "execution_count": null,
   "metadata": {
    "scrolled": true
   },
   "outputs": [],
   "source": [
    "weak_neg_results_df.head()"
   ]
  },
  {
   "cell_type": "markdown",
   "metadata": {},
   "source": [
    "### Analysis of Sub-metric Linear Regressions"
   ]
  },
  {
   "cell_type": "markdown",
   "metadata": {},
   "source": [
    "The 3 metrics with the strongest positive correlation with happiness scores are:\n",
    "- Life Expectency at 60\n",
    "- Access to information and communications\n",
    "- Overall Health and Wellness of the country\n",
    "\n",
    "The 3 metrics with the strongest negative correlation with happiness scores are:\n",
    "- Household air pollution attributable deaths\n",
    "- Populations (%) using unsafe or unimproved sanitation\n",
    "- Vulnerable employment (% of employees)\n",
    "\n",
    "The 3 metrics with the weakest positive correlation with happiness scores are:\n",
    "- Greenhouse gas emissions\n",
    "- Biome protection\n",
    "- Quality universities\n",
    "\n",
    "The 3 metrics with the weakest negative correlation with happiness scores are:\n",
    "- Homicide rate\n",
    "- Perceived criminality\n",
    "- Early marriage (% of women)\n",
    "\n",
    "From this, our final step was to take the 3 strongest metrics and see how well they could be used to predict happiness score in a single variable linear regression."
   ]
  },
  {
   "cell_type": "code",
   "execution_count": null,
   "metadata": {
    "scrolled": true
   },
   "outputs": [],
   "source": [
    "# r squared of Life Expectency and Happiness Score\n",
    "y_values = project_df['Score_HS']\n",
    "x_values = project_df['Life expectancy at 60 (years)_SP']\n",
    "correlation_matrix = np.corrcoef(x_values, y_values)\n",
    "correlation_xy = correlation_matrix[0,1]\n",
    "r_squared = correlation_xy**2\n",
    "print(f\"The r_squared for Life Expectency and Happiness Score is {r_squared}\")\n",
    "print(\"\")\n",
    "\n",
    "# r squared of Access to Information and Communications\n",
    "y_values = project_df['Score_HS']\n",
    "x_values = project_df['Access to Information and Communications_SP']\n",
    "correlation_matrix = np.corrcoef(x_values, y_values)\n",
    "correlation_xy = correlation_matrix[0,1]\n",
    "r_squared = correlation_xy**2\n",
    "print(f\"The r_squared for Access to Information and Communications and Happiness Score is {r_squared}\")\n",
    "print(\"\")\n",
    "\n",
    "# r squared of Household air pollution attributable deaths and Happiness Score\n",
    "y_values = project_df['Score_HS']\n",
    "x_values = project_df['Household air pollution attributable deaths (deaths/100,000)_SP']\n",
    "correlation_matrix = np.corrcoef(x_values, y_values)\n",
    "correlation_xy = correlation_matrix[0,1]\n",
    "r_squared = correlation_xy**2\n",
    "print(f\"The r_squared for Household air pollution attributable deaths and Happiness Score is {r_squared}\")\n",
    "print(\"\")"
   ]
  },
  {
   "cell_type": "markdown",
   "metadata": {},
   "source": [
    "The above shows each of these strongly correlated values has an r-squared of above .57. \n",
    "\n",
    "This means each of these variables can attribute to predicting at least 57% of the value of the Happiness Score, given a single variable linear regression model, with the other 43% (or less) of the value being attributable to other factors. "
   ]
  },
  {
   "cell_type": "markdown",
   "metadata": {},
   "source": [
    "# Analysis of Relationships between Happiness Indicators and Social Progress Score"
   ]
  },
  {
   "cell_type": "code",
   "execution_count": null,
   "metadata": {},
   "outputs": [],
   "source": [
    "# Add the linear regression equation and line to plot\n",
    "x_values = project_df['Social Progress Index_SP']\n",
    "y_values = project_df['GDP per capita_HS']\n",
    "(slope, intercept, rvalue, pvalue, stderr) = linregress(x_values, y_values)\n",
    "regress_values = x_values * slope + intercept\n",
    "line_eq = \"y = \" + str(round(slope,2)) + \"x + \" + str(round(intercept,2))\n",
    "plt.scatter(x_values,y_values, edgecolors= \"black\")\n",
    "plt.plot(x_values,regress_values,\"r-\")\n",
    "plt.annotate(line_eq,(60, .3),fontsize=15,color=\"red\")\n",
    "\n",
    "# Labels\n",
    "plt.title('GDP per Capita vs. Social Progress Index Score')\n",
    "plt.xlabel('Social Progress Index Score')\n",
    "plt.ylabel('GDP per Capita')\n",
    "plt.grid()\n",
    "plt.show()"
   ]
  },
  {
   "cell_type": "code",
   "execution_count": null,
   "metadata": {},
   "outputs": [],
   "source": [
    "score = f\"The r value is: {rvalue}\"\n",
    "if rvalue == 0:\n",
    "    relationship = \"none existant\"\n",
    "    strength = \"\"\n",
    "else:\n",
    "    if rvalue > 0:\n",
    "        relationship = \"positive\"\n",
    "    else:\n",
    "        relationship = \"negative\"\n",
    "\n",
    "if abs(rvalue) >= .7:\n",
    "    strength = \"strong\"\n",
    "elif abs(rvalue) >= .5:\n",
    "    strength = \"moderate\"\n",
    "elif abs(rvalue) >= .3 and rvalue != 0:\n",
    "    strength = \"weak\"\n",
    "    \n",
    "print(f\"The r value is: {rvalue}.  This is a {strength} {relationship} relationship\")"
   ]
  },
  {
   "cell_type": "markdown",
   "metadata": {},
   "source": [
    "# Population Density vs Social Progress & Happiness Score"
   ]
  },
  {
   "cell_type": "code",
   "execution_count": null,
   "metadata": {},
   "outputs": [],
   "source": [
    "den_file = \"Data/population_density.csv\"\n",
    "\n",
    "# Read our Social Progress data into pandas\n",
    "density_df = pd.read_csv(den_file, encoding = \"ISO-8859-1\")\n",
    "density_df"
   ]
  },
  {
   "cell_type": "code",
   "execution_count": null,
   "metadata": {},
   "outputs": [],
   "source": [
    "country_df = density_df.loc[density_df['Type'] == 'Country/Area']\n",
    "rename_country = country_df.rename(columns={'Region, subregion, country or area *':'Country'})"
   ]
  },
  {
   "cell_type": "code",
   "execution_count": null,
   "metadata": {},
   "outputs": [],
   "source": [
    "clean_country = rename_country[['Country','2015', '2016', '2017', '2018', '2019']]\n",
    "clean_country['Country'] = clean_country['Country'].replace({'United States of America':'United States'})\n",
    "clean_country['Country'] = clean_country['Country'].replace({'United Republic of Tanzania':'Tanzania'})\n",
    "clean_country['Country'] = clean_country['Country'].replace({'Russian Federation':'Russia'})\n",
    "density_2015 = clean_country[['Country', '2015']]\n",
    "density_2016 = clean_country[['Country', '2016']]\n",
    "density_2017 = clean_country[['Country', '2017']]\n",
    "density_2018 = clean_country[['Country', '2018']]\n",
    "density_2019 = clean_country[['Country', '2019']]\n",
    "density_2019['Country']"
   ]
  },
  {
   "cell_type": "code",
   "execution_count": null,
   "metadata": {},
   "outputs": [],
   "source": [
    "density_2015 = density_2015.rename(columns={'2015':'Population Density'})\n",
    "density_2016 = density_2016.rename(columns={'2016':'Population Density'})\n",
    "density_2017 = density_2017.rename(columns={'2017':'Population Density'})\n",
    "density_2018 = density_2018.rename(columns={'2018':'Population Density'})\n",
    "density_2019 = density_2019.rename(columns={'2019':'Population Density'})\n",
    "density_2019.loc[density_2019['Country'] == 'Russia']"
   ]
  },
  {
   "cell_type": "code",
   "execution_count": null,
   "metadata": {},
   "outputs": [],
   "source": [
    "density_2015['Country & Year'] = ('2015')+density_2015['Country']\n",
    "density_2016['Country & Year'] = ('2016')+density_2016['Country']\n",
    "density_2017['Country & Year'] = ('2017')+density_2017['Country']\n",
    "density_2018['Country & Year'] = ('2018')+density_2018['Country']\n",
    "density_2019['Country & Year'] = ('2019')+density_2019['Country']\n",
    "density_2015.loc[(density_2015['Country'] == 'Finland') | \n",
    "                 (density_2015['Country'] == 'Denmark') |\n",
    "                 (density_2015['Country'] == 'Norway')  |\n",
    "                 (density_2015['Country'] == 'Iceland')]"
   ]
  },
  {
   "cell_type": "code",
   "execution_count": null,
   "metadata": {},
   "outputs": [],
   "source": [
    "v1 = density_2015.append(density_2016)"
   ]
  },
  {
   "cell_type": "code",
   "execution_count": null,
   "metadata": {},
   "outputs": [],
   "source": [
    "v2 = v1.append(density_2017)"
   ]
  },
  {
   "cell_type": "code",
   "execution_count": null,
   "metadata": {},
   "outputs": [],
   "source": [
    "v3 = v2.append(density_2018)"
   ]
  },
  {
   "cell_type": "code",
   "execution_count": null,
   "metadata": {},
   "outputs": [],
   "source": [
    "v4 = v3.append(density_2019)"
   ]
  },
  {
   "cell_type": "code",
   "execution_count": null,
   "metadata": {},
   "outputs": [],
   "source": [
    "v4"
   ]
  },
  {
   "cell_type": "code",
   "execution_count": null,
   "metadata": {},
   "outputs": [],
   "source": [
    "new_merge = project_df\n",
    "new_merge['Country & Year'] = new_merge[\"Year_HS\"].astype(str) + new_merge[\"Country or region_HS\"]"
   ]
  },
  {
   "cell_type": "code",
   "execution_count": null,
   "metadata": {},
   "outputs": [],
   "source": [
    "combined_merge = pd.merge(v4, new_merge, on=\"Country & Year\", how='right')\n",
    "combined_merge"
   ]
  },
  {
   "cell_type": "code",
   "execution_count": null,
   "metadata": {},
   "outputs": [],
   "source": [
    "pop_den = combined_merge['Population Density'].astype('float64')\n",
    "hap_score = combined_merge['Score_HS'].astype('float64')\n",
    "sp_index = combined_merge['Social Progress Index_SP'].astype('float64')"
   ]
  },
  {
   "cell_type": "code",
   "execution_count": null,
   "metadata": {},
   "outputs": [],
   "source": [
    "slope, intercept, rvalue, pvalue, stderr = linregress(pop_den, hap_score)\n",
    "regress_values = pop_den * slope + intercept\n",
    "line_eq = \"y = \" + str(round(slope,2)) + \"x + \" + str(round(intercept,2))\n",
    "plt.scatter(pop_den, hap_score, facecolors = 'lightblue', edgecolors = 'black', s = 40)\n",
    "plt.plot(pop_den,regress_values,\"r-\")\n",
    "plt.annotate(line_eq,(150,4.5),fontsize=15,color=\"red\")\n",
    "plt.title(\"Population Density Vs Happiness Score\")\n",
    "plt.xlabel(\"Population Density (persons per square km)\")\n",
    "plt.ylabel(\"Happiness Score\")\n",
    "print(f\" The R Value is:{rvalue}\")\n",
    "plt.show()"
   ]
  },
  {
   "cell_type": "code",
   "execution_count": null,
   "metadata": {},
   "outputs": [],
   "source": [
    "slope, intercept, rvalue, pvalue, stderr = linregress(pop_den, sp_index)\n",
    "regress_values = pop_den * slope + intercept\n",
    "line_eq = \"y = \" + str(round(slope,2)) + \"x + \" + str(round(intercept,2))\n",
    "plt.scatter(pop_den, sp_index, facecolors = 'lightblue', edgecolors = 'black', s = 40)\n",
    "plt.plot(pop_den,regress_values,\"r-\")\n",
    "plt.annotate(line_eq,(300,60),fontsize=15,color=\"red\")\n",
    "plt.title(\"Population Density Vs Social Progress Score\")\n",
    "plt.xlabel(\"Population Density (persons per square km)\")\n",
    "plt.ylabel(\"Social Progress Score\")\n",
    "print(f\" The R Value is:{rvalue}\")\n",
    "plt.show()"
   ]
  },
  {
   "cell_type": "code",
   "execution_count": null,
   "metadata": {},
   "outputs": [],
   "source": []
  }
 ],
 "metadata": {
  "kernelspec": {
   "display_name": "Python 3",
   "language": "python",
   "name": "python3"
  },
  "language_info": {
   "codemirror_mode": {
    "name": "ipython",
    "version": 3
   },
   "file_extension": ".py",
   "mimetype": "text/x-python",
   "name": "python",
   "nbconvert_exporter": "python",
   "pygments_lexer": "ipython3",
   "version": "3.8.5"
  }
 },
 "nbformat": 4,
 "nbformat_minor": 4
}
