{
 "cells": [
  {
   "cell_type": "code",
   "execution_count": null,
   "metadata": {},
   "outputs": [],
   "source": [
    "import os\n",
    "import csv\n",
    "import pandas as pd\n",
    "import matplotlib.pyplot as plt\n",
    "import numpy as np\n",
    "from scipy.stats import linregress\n",
    "import requests\n",
    "import json\n",
    "from sklearn import linear_model\n",
    "from scipy import stats\n"
   ]
  },
  {
   "cell_type": "code",
   "execution_count": null,
   "metadata": {},
   "outputs": [],
   "source": [
    "#file path\n",
    "\n",
    "# The path to our Happiness Score CSV file\n",
    "hs_file = \"Data/WorldHappinessAll.csv\"\n",
    "\n",
    "# Read our Happiness Score data into pandas\n",
    "hs_df = pd.read_csv(hs_file)\n",
    "#hs_df.head()\n"
   ]
  },
  {
   "cell_type": "code",
   "execution_count": null,
   "metadata": {},
   "outputs": [],
   "source": [
    "# The path to our Social Progress CSV file\n",
    "sp_file = \"Data/2011-2020-Social-Progress-Index.csv\"\n",
    "\n",
    "# Read our Social Progress data into pandas\n",
    "sp_df = pd.read_csv(sp_file, encoding = \"ISO-8859-1\")\n",
    "sp_df.head()"
   ]
  },
  {
   "cell_type": "code",
   "execution_count": null,
   "metadata": {},
   "outputs": [],
   "source": [
    "# Check or NaN values in Happiness Score df\n",
    "hs_df.count()"
   ]
  },
  {
   "cell_type": "code",
   "execution_count": null,
   "metadata": {},
   "outputs": [],
   "source": [
    "# Check for NaN values in Social Progress df\n",
    "sp_df.count()"
   ]
  },
  {
   "cell_type": "code",
   "execution_count": null,
   "metadata": {},
   "outputs": [],
   "source": [
    "# Drop NaN values for Social Progress\n",
    "nonan_sp_df = sp_df.dropna()\n",
    "nonan_sp_df.count()"
   ]
  },
  {
   "cell_type": "code",
   "execution_count": null,
   "metadata": {},
   "outputs": [],
   "source": [
    "# Note which columns come from which df for post merge file\n",
    "suffix_hs_df = hs_df.add_suffix(\"_HS\")\n",
    "suffix_nonan_sp_df = nonan_sp_df.add_suffix(\"_SP\")"
   ]
  },
  {
   "cell_type": "code",
   "execution_count": null,
   "metadata": {},
   "outputs": [],
   "source": [
    "# Create target column to merge dataframes on year and country\n",
    "suffix_nonan_sp_df[\"Country & Year\"] = suffix_nonan_sp_df[\"SPI year_SP\"].astype(str) + suffix_nonan_sp_df[\"Country_SP\"]\n",
    "suffix_nonan_sp_df.head()"
   ]
  },
  {
   "cell_type": "code",
   "execution_count": null,
   "metadata": {},
   "outputs": [],
   "source": [
    "# Create target column to merge dataframes on year and country\n",
    "suffix_hs_df[\"Country & Year\"] = suffix_hs_df[\"Year_HS\"].astype(str) + suffix_hs_df[\"Country or region_HS\"]\n",
    "suffix_hs_df.head()"
   ]
  },
  {
   "cell_type": "code",
   "execution_count": null,
   "metadata": {},
   "outputs": [],
   "source": [
    "# Merge data to only include countries that have data in both Social Progress and Happiness Score dfs\n",
    "merge_df = pd.merge(suffix_hs_df, suffix_nonan_sp_df, on=\"Country & Year\")\n",
    "merge_df.head()"
   ]
  },
  {
   "cell_type": "code",
   "execution_count": null,
   "metadata": {},
   "outputs": [],
   "source": [
    "# Export file as a CSV, without the Pandas index, but with the header\n",
    "merge_df.to_csv(\"Data/merge.csv\", index=False, header=True)"
   ]
  },
  {
   "cell_type": "code",
   "execution_count": null,
   "metadata": {},
   "outputs": [],
   "source": [
    "country_compare_df = merge_df[['Country or region_HS', 'Country_SP']]\n",
    "country_compare_df.count()"
   ]
  },
  {
   "cell_type": "markdown",
   "metadata": {},
   "source": [
    "\n",
    "## Is \"Healthy Life Expectancy\" the greatest Happiness indicator that predicts \"Social Progress Score\" ?\n",
    "\n",
    "\n",
    "  * Alternate hypothesis - If \"Healthy Life Expectancy\" is the greatest Happiness indicator that predicts Social Progress Index, then as the  \"Healthy Life Expectancy\" of a certain country increases the \"Social Prgress index Score\" of the respective country will also increase, thus we will observe a linear correlation.    \n",
    "\n",
    "  * Null Hypothesis - If \"Healthy Life Expectancy\" is not the greatest Happiness indicator that predicts  \"Social progress Index\", then we will not observe a linear correlation between \"Healthy Life Expectancy and \"Social Progress index scores\". Rather, we will expect unclear correlation between \"Healthy Life expectancy\" and \"Social Progress Score\"\n",
    "\n",
    "\n",
    "\n"
   ]
  },
  {
   "cell_type": "code",
   "execution_count": null,
   "metadata": {},
   "outputs": [],
   "source": [
    "\n",
    "Healthylife_Vs_SocialProgress_df = merge_df[[\"Healthy life expectancy_HS\", \"Score_HS\", \"Social Progress Index_SP\",\"Country & Year\",]]\n",
    "#Healthylife_Vs_SocialProgress_df.head(20)\n",
    "Healthylife_Vs_SocialProgress_df.tail(30)"
   ]
  },
  {
   "cell_type": "code",
   "execution_count": null,
   "metadata": {},
   "outputs": [],
   "source": [
    "Healthylife_Vs_SocialProgress_df.describe()"
   ]
  },
  {
   "cell_type": "code",
   "execution_count": null,
   "metadata": {},
   "outputs": [],
   "source": [
    "import matplotlib.pyplot as plt\n",
    "from scipy import stats\n",
    "\n",
    "x = Healthylife_Vs_SocialProgress_df[\"Social Progress Index_SP\"]\n",
    "y = Healthylife_Vs_SocialProgress_df[\"Healthy life expectancy_HS\"]\n",
    "\n",
    "\n",
    "plt.xlabel(\"Social Progress Index\")\n",
    "plt.ylabel(\"Healthy life expectancy\")\n",
    "plt.title(\"Social Progress Index Vs Healthy Life Expectancy\")\n",
    "\n",
    "\n",
    "slope, intercept, r, p, std_err = stats.linregress(x, y)\n",
    "\n",
    "def myfunc(x):\n",
    "  return slope * x + intercept\n",
    "\n",
    "mymodel = list(map(myfunc, x))\n",
    "\n",
    "plt.scatter(x, y)\n",
    "plt.plot(x, mymodel)\n",
    "plt.show()"
   ]
  },
  {
   "cell_type": "markdown",
   "metadata": {},
   "source": [
    "From the above graphs we observe that there is a direct relationship betweeen Healthy Life Expectancey and Social Progress Index. \n",
    "\n",
    "\n"
   ]
  },
  {
   "cell_type": "code",
   "execution_count": null,
   "metadata": {},
   "outputs": [],
   "source": [
    "\n",
    "slope, intercept, r, p, std_err = stats.linregress(x, y)\n",
    "print(r)\n"
   ]
  },
  {
   "cell_type": "code",
   "execution_count": null,
   "metadata": {},
   "outputs": [],
   "source": [
    "#calculate R^2 to measure correlation\n",
    "print(r**2)"
   ]
  },
  {
   "cell_type": "code",
   "execution_count": null,
   "metadata": {},
   "outputs": [],
   "source": [
    "#P stands for probability and measures how likely it is that any observed difference between groups is due to chance.\n",
    "print (p)\n",
    "\n",
    "\n"
   ]
  },
  {
   "cell_type": "code",
   "execution_count": null,
   "metadata": {},
   "outputs": [],
   "source": [
    "print (std_err)"
   ]
  },
  {
   "cell_type": "markdown",
   "metadata": {},
   "source": [
    "\n",
    "## Is \"Perceptions of corruption_HS\" the least Happiness indicator that predicts \"Social Progress Score\" ?\n",
    "\n",
    "\n",
    "  * Alternate hypothesis - If \"Perceptions of corruption_HS\" is the worst Happiness indicator that predicts Social Progress Index, then there will not be a strong correlation between Perceptions of corruption_HS and Social Progress Index.\n",
    "\n",
    "\n",
    "  * Null Hypothesis -If \"Perceptions of corruption_HS\" is not the worst Happiness indicator that predicts Social Progress Index, then we will observe a linear correlation between perceptions of corruption_HS and Social Progress Index.\n"
   ]
  },
  {
   "cell_type": "code",
   "execution_count": null,
   "metadata": {},
   "outputs": [],
   "source": [
    "# import matplotlib.pyplot as plt\n",
    "# from scipy import stats\n",
    "\n",
    "# x = Healthylife_Vs_SocialProgress_df[\"Perceptions of corruption_HS\"]\n",
    "# y = Healthylife_Vs_SocialProgress_df[\"Social Progress Index_SP\"]\n",
    "\n",
    "\n",
    "# plt.xlabel(\"Perceptions of corruption_HS\")\n",
    "# plt.ylabel(\"Social Progress Index_SP\")\n",
    "# plt.title(\"Perceptions of corruption_HS Vs Social Progress Index\")\n",
    "\n",
    "\n",
    "# slope, intercept, r, p, std_err = stats.linregress(x, y)\n",
    "\n",
    "# def myfunc(x):\n",
    "#   return slope * x + intercept\n",
    "\n",
    "# mymodel = list(map(myfunc, x))\n",
    "\n",
    "# plt.scatter(x, y)\n",
    "# plt.plot(x, mymodel)\n",
    "# plt.show()"
   ]
  },
  {
   "cell_type": "code",
   "execution_count": null,
   "metadata": {},
   "outputs": [],
   "source": [
    "slope, intercept, r, p, std_err = stats.linregress(x, y)\n",
    "print(r)"
   ]
  },
  {
   "cell_type": "code",
   "execution_count": null,
   "metadata": {},
   "outputs": [],
   "source": [
    "#calculate R^2 to measure correlation\n",
    "print(r**2)"
   ]
  },
  {
   "cell_type": "code",
   "execution_count": null,
   "metadata": {},
   "outputs": [],
   "source": [
    "print (std_err)"
   ]
  },
  {
   "cell_type": "code",
   "execution_count": null,
   "metadata": {},
   "outputs": [],
   "source": [
    "#value is statistically significant\n",
    "print(p)"
   ]
  },
  {
   "cell_type": "code",
   "execution_count": null,
   "metadata": {},
   "outputs": [],
   "source": []
  }
 ],
 "metadata": {
  "kernelspec": {
   "display_name": "Python 3",
   "language": "python",
   "name": "python3"
  },
  "language_info": {
   "codemirror_mode": {
    "name": "ipython",
    "version": 3
   },
   "file_extension": ".py",
   "mimetype": "text/x-python",
   "name": "python",
   "nbconvert_exporter": "python",
   "pygments_lexer": "ipython3",
   "version": "3.8.5"
  }
 },
 "nbformat": 4,
 "nbformat_minor": 4
}
