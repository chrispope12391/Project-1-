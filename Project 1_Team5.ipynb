{
 "cells": [
  {
   "cell_type": "code",
   "execution_count": null,
   "metadata": {},
   "outputs": [],
   "source": [
    "import os\n",
    "import csv\n",
    "import pandas as pd\n",
    "import matplotlib.pyplot as plt\n",
    "import numpy as np\n",
    "from scipy.stats import linregress\n",
    "import requests\n",
    "import json"
   ]
  },
  {
   "cell_type": "code",
   "execution_count": null,
   "metadata": {},
   "outputs": [],
   "source": [
    "#file path\n",
    "#Import clean csv file\n",
    "project_df_path = \"Data/merge.csv\"\n",
    "project_df = pd.read_csv(project_df_path)\n",
    "project_df.head()"
   ]
  },
  {
   "cell_type": "code",
   "execution_count": null,
   "metadata": {},
   "outputs": [],
   "source": [
    "#see dataframe column as a list\n",
    "#project_df.columns.tolist()"
   ]
  },
  {
   "cell_type": "code",
   "execution_count": null,
   "metadata": {},
   "outputs": [],
   "source": [
    "#suppress warning\n",
    "import warnings\n",
    "warnings.simplefilter(\"ignore\")"
   ]
  },
  {
   "cell_type": "code",
   "execution_count": null,
   "metadata": {},
   "outputs": [],
   "source": [
    "#Get ranking and totals data\n",
    "totals_df = project_df[['Year_HS', 'Country_SP', 'Overall rank_HS', 'Score_HS', 'SPI Rank_SP',  'Social Progress Index_SP']]\n",
    "\n",
    "#Rename year and country columns\n",
    "totals_df.rename(columns = {\"Year_HS\":\"Year\", \"Country_SP\":\"Country\"}, inplace = True)\n",
    "\n",
    "#configure SPI ranking to not have a decimal\n",
    "totals_df[\"SPI Rank_SP\"] = totals_df[\"SPI Rank_SP\"].astype(int)"
   ]
  },
  {
   "cell_type": "code",
   "execution_count": null,
   "metadata": {},
   "outputs": [],
   "source": [
    "#Top Rankings of Happiness Score\n",
    "#ranking_HS = totals_df.sort_values([\"Year\",\"Overall rank_HS\"])\n",
    "#ranking_HS"
   ]
  },
  {
   "cell_type": "code",
   "execution_count": null,
   "metadata": {},
   "outputs": [],
   "source": [
    "#Top Rankings of Social Progress Index\n",
    "#ranking_SP = totals_df.sort_values([\"Year\",\"SPI Rank_SP\"])\n",
    "#ranking_SP"
   ]
  },
  {
   "cell_type": "code",
   "execution_count": null,
   "metadata": {},
   "outputs": [],
   "source": [
    "ranking_both_top10 = totals_df[(totals_df[\"Overall rank_HS\"] <= 10) & (totals_df[\"SPI Rank_SP\"] <= 10)]\n",
    "ranking_both_top10"
   ]
  },
  {
   "cell_type": "code",
   "execution_count": null,
   "metadata": {},
   "outputs": [],
   "source": [
    "ranking_both_top25 = totals_df[(totals_df[\"Overall rank_HS\"] <= 25) & (totals_df[\"SPI Rank_SP\"] <= 25)]\n",
    "ranking_both_top25"
   ]
  },
  {
   "cell_type": "code",
   "execution_count": null,
   "metadata": {},
   "outputs": [],
   "source": [
    "#Scatterplot all years \n",
    "x_values = totals_df[\"Score_HS\"]\n",
    "y_values = totals_df[\"Social Progress Index_SP\"]\n",
    "\n",
    "(slope, intercept, rvalue, pvalue, stderr) = linregress(x_values, y_values)\n",
    "regress_values = slope * x_values + intercept\n",
    "line_eq = \"y =\" + str(round(slope,2)) + \"x \" + str(round(intercept,2))\n",
    "\n",
    "plt.title(\"Overall Social Progress Index and Happiness Score (2015-2019)\")\n",
    "plt.ylabel(\" Social Progress Index\")\n",
    "plt.xlabel(\"Happiness Score\")\n",
    "plt.ylim(20,100)\n",
    "plt.xlim(2,10)\n",
    "plt.grid(True, linestyle=\"-\", which=\"major\", color=\"gray\", alpha=0.25)\n",
    "plt.annotate(line_eq, (3,30), fontsize=12, color=\"red\")\n",
    "\n",
    "plt.scatter(x_values, y_values, color=\"black\", marker=\"o\")\n",
    "plt.plot(x_values, regress_values, \"r-\")\n",
    "plt.show()\n",
    "\n",
    "#print r squared\n",
    "print(f\"R squared: {rvalue**2}\")"
   ]
  },
  {
   "cell_type": "code",
   "execution_count": null,
   "metadata": {},
   "outputs": [],
   "source": [
    "#Group by country\n",
    "grouped_totals_df = totals_df.groupby([\"Country\"])\n",
    "grouped_totals_df.mean()"
   ]
  },
  {
   "cell_type": "code",
   "execution_count": null,
   "metadata": {},
   "outputs": [],
   "source": [
    "#Converting groupby to a dataframe\n",
    "averages_df = pd.DataFrame(grouped_totals_df[\"Overall rank_HS\", \"Score_HS\", \"SPI Rank_SP\", \"Social Progress Index_SP\"].mean())"
   ]
  },
  {
   "cell_type": "code",
   "execution_count": null,
   "metadata": {},
   "outputs": [],
   "source": [
    "#Scatterplot averaged data \n",
    "x_values = averages_df[\"Score_HS\"]\n",
    "y_values = averages_df[\"Social Progress Index_SP\"]\n",
    "\n",
    "(slope, intercept, rvalue, pvalue, stderr) = linregress(x_values, y_values)\n",
    "regress_values = slope * x_values + intercept\n",
    "line_eq = \"y =\" + str(round(slope,2)) + \"x \" + str(round(intercept,2))\n",
    "\n",
    "plt.title(\"Five-year Average Social Progress Index and Happiness Score\")\n",
    "plt.ylabel(\" Social Progress Index\")\n",
    "plt.xlabel(\"Happiness Score\")\n",
    "plt.ylim(20,100)\n",
    "plt.xlim(2,10)\n",
    "plt.grid(True, linestyle=\"-\", which=\"major\", color=\"gray\", alpha=0.25)\n",
    "plt.annotate(line_eq, (3,30), fontsize=12, color=\"red\")\n",
    "\n",
    "plt.scatter(x_values, y_values, color=\"black\", marker=\"o\")\n",
    "plt.plot(x_values, regress_values, \"r-\")\n",
    "plt.show()\n",
    "\n",
    "#print r squared\n",
    "print(f\"R squared: {rvalue**2}\")"
   ]
  }
 ],
 "metadata": {
  "kernelspec": {
   "display_name": "Python 3",
   "language": "python",
   "name": "python3"
  },
  "language_info": {
   "codemirror_mode": {
    "name": "ipython",
    "version": 3
   },
   "file_extension": ".py",
   "mimetype": "text/x-python",
   "name": "python",
   "nbconvert_exporter": "python",
   "pygments_lexer": "ipython3",
   "version": "3.6.10"
  }
 },
 "nbformat": 4,
 "nbformat_minor": 4
}
