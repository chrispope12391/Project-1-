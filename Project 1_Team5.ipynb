{
 "cells": [
  {
   "cell_type": "code",
   "execution_count": null,
   "metadata": {},
   "outputs": [],
   "source": [
    "import os\n",
    "import csv\n",
    "import pandas as pd\n",
    "import matplotlib.pyplot as plt\n",
    "import numpy as np\n",
    "from scipy.stats import linregress\n",
    "import requests\n",
    "import json"
   ]
  },
  {
   "cell_type": "code",
   "execution_count": null,
   "metadata": {},
   "outputs": [],
   "source": [
    "#file path\n",
    "#Import clean csv file\n",
    "project_df_path = \"Data/merge.csv\"\n",
    "project_df = pd.read_csv(project_df_path)\n",
    "project_df.head()"
   ]
  },
  {
   "cell_type": "code",
   "execution_count": null,
   "metadata": {},
   "outputs": [],
   "source": [
    "#see dataframe column as a list\n",
    "#project_df.columns.tolist()"
   ]
  },
  {
   "cell_type": "code",
   "execution_count": null,
   "metadata": {},
   "outputs": [],
   "source": [
    "#number of participating countries\n",
    "project_df[\"Country or region_HS\"].unique()"
   ]
  },
  {
   "cell_type": "code",
   "execution_count": null,
   "metadata": {},
   "outputs": [],
   "source": [
    "#suppress warning\n",
    "import warnings\n",
    "warnings.simplefilter(\"ignore\")"
   ]
  },
  {
   "cell_type": "code",
   "execution_count": null,
   "metadata": {},
   "outputs": [],
   "source": [
    "#Get ranking and totals data\n",
    "totals_df = project_df[['Year_HS', 'Country_SP', 'Overall rank_HS', 'Score_HS', 'SPI Rank_SP',  'Social Progress Index_SP']]\n",
    "\n",
    "#Rename year and country columns\n",
    "totals_df.rename(columns = {\"Year_HS\":\"Year\", \"Country_SP\":\"Country\"}, inplace = True)\n",
    "\n",
    "#configure SPI ranking to not have a decimal\n",
    "totals_df[\"SPI Rank_SP\"] = totals_df[\"SPI Rank_SP\"].astype(int)\n",
    "\n",
    "#renaming columns to get rid of spaces\n",
    "totals_df.rename(columns={\"Overall rank_HS\":\"Rank_HS\"}, inplace=True)\n",
    "totals_df.rename(columns={\"SPI Rank_SP\":\"Rank_SPI\"}, inplace=True)"
   ]
  },
  {
   "cell_type": "code",
   "execution_count": null,
   "metadata": {},
   "outputs": [],
   "source": [
    "#Top Rankings of Happiness Score\n",
    "#ranking_HS = totals_df.sort_values([\"Year\",\"Rank_HS\"])\n",
    "#ranking_HS"
   ]
  },
  {
   "cell_type": "code",
   "execution_count": null,
   "metadata": {},
   "outputs": [],
   "source": [
    "#Top Rankings of Social Progress Index\n",
    "#ranking_SP = totals_df.sort_values([\"Year\",\"Rank_SPI\"])\n",
    "#ranking_SP"
   ]
  },
  {
   "cell_type": "code",
   "execution_count": null,
   "metadata": {},
   "outputs": [],
   "source": [
    "ranking_both_top10 = totals_df[(totals_df[\"Rank_HS\"] <= 10) & (totals_df[\"Rank_SPI\"] <= 10)]\n",
    "#use \\ (vertical bar for either condiation)\n",
    "ranking_both_top10"
   ]
  },
  {
   "cell_type": "code",
   "execution_count": null,
   "metadata": {},
   "outputs": [],
   "source": [
    "ranking_HS = ranking_both_top10.sort_values([\"Rank_HS\"])"
   ]
  },
  {
   "cell_type": "code",
   "execution_count": null,
   "metadata": {},
   "outputs": [],
   "source": [
    "ranking_SPI = ranking_both_top10.sort_values([\"Rank_SPI\"])\n",
    "#ranking_SPI"
   ]
  },
  {
   "cell_type": "code",
   "execution_count": null,
   "metadata": {},
   "outputs": [],
   "source": [
    "ranking_country = ranking_both_top10.sort_values([\"Country\"])\n",
    "ranking_country"
   ]
  },
  {
   "cell_type": "code",
   "execution_count": null,
   "metadata": {},
   "outputs": [],
   "source": [
    "ranking_top10 = ranking_both_top10.groupby([\"Country\",\"Rank_HS\",\"Rank_SPI\"])\n",
    "ranking_top10.count()"
   ]
  },
  {
   "cell_type": "code",
   "execution_count": null,
   "metadata": {},
   "outputs": [],
   "source": [
    "count10 = ranking_top10[\"Rank_SPI\"].count()\n",
    "count10"
   ]
  },
  {
   "cell_type": "code",
   "execution_count": null,
   "metadata": {},
   "outputs": [],
   "source": [
    "#Scatterplot all years \n",
    "x_values = ranking_both_top10[\"Rank_HS\"]\n",
    "y_values = ranking_both_top10[\"Rank_SPI\"]"
   ]
  },
  {
   "cell_type": "code",
   "execution_count": null,
   "metadata": {},
   "outputs": [],
   "source": [
    "plt.title(\"Top 10 Social Progress and Happiness Rankings (2015-2019)\")\n",
    "plt.ylabel(\" Social Progress Rank\")\n",
    "plt.xlabel(\"Happiness Rank\")\n",
    "plt.ylim(0,11)\n",
    "plt.xlim(0,11)\n",
    "plt.grid(True, linestyle=\"-\", which=\"major\", color=\"gray\", alpha=0.25)\n",
    "\n",
    "plt.scatter(x_values, y_values, color=\"black\", marker=\"o\")\n",
    "plt.show()\n"
   ]
  },
  {
   "cell_type": "code",
   "execution_count": null,
   "metadata": {},
   "outputs": [],
   "source": [
    "#plot_country = ranking_country[\"Country\"].to_list()\n",
    "#plot_HS_rank = ranking_country[\"Rank_HS\"].to_list()\n",
    "#plot_SPI_rank = ranking_country[\"Rank_SPI\"].to_list()\n",
    "#plot_HS_rank\n",
    "#plot_SPI_rank\n",
    "#plot_country"
   ]
  },
  {
   "cell_type": "code",
   "execution_count": null,
   "metadata": {},
   "outputs": [],
   "source": [
    "#Create variable for list of ranking data\n",
    "plot_HS_rank = ranking_country[\"Rank_HS\"].to_list()\n",
    "\n",
    "plot_SPI_rank = ranking_country[\"Rank_SPI\"].to_list()\n",
    "\n",
    "country = ranking_country[\"Country\"].to_list()\n"
   ]
  },
  {
   "cell_type": "code",
   "execution_count": null,
   "metadata": {},
   "outputs": [],
   "source": [
    "#Create variable to add and inverse the rankings so the smallest number for the ranking displays a larger dot using list comprehension.\n",
    "#https://www.geeksforgeeks.org/python-adding-two-list-elements/\n",
    "#display_dot = [plot_HS_rank[i] + plot_SPI_rank[i] for i in range(len(plot_HS_rank))]\n",
    "\n",
    "display_dot = [float(plot_HS_rank[i]) + float(plot_SPI_rank[i]) for i in range(len(plot_HS_rank))]\n",
    "\n",
    "#Find reciprocal\n",
    "#https://www.geeksforgeeks.org/numpy-reciprocal\n",
    "display_dot_inv = np.reciprocal(display_dot)\n",
    "\n",
    "#display_dot\n",
    "#display_dot_inv"
   ]
  },
  {
   "cell_type": "code",
   "execution_count": null,
   "metadata": {},
   "outputs": [],
   "source": [
    "#Scatterplot of the two rankings with cities that rank 1-10 in both.\n",
    "#https://stackoverflow.com/questions/26139423/plot-different-color-for-different-categorical-levels-using-matplotlib\n",
    "#https://python-graph-gallery.com/270-basic-bubble-plot/\n",
    "\n",
    "df = pd.DataFrame(dict(plot_HS_rank=plot_HS_rank, plot_SPI_rank=plot_SPI_rank, country=country, display_dot_inv=display_dot_inv))\n",
    "fig, ax = plt.subplots()\n",
    "plt.rcParams[\"figure.figsize\"] = (7,7)\n",
    "\n",
    "colors = {'Australia':'crimson', 'Canada':'darkviolet', 'Denmark':'green', 'Finland':'deepskyblue', 'Netherlands':'gold', 'New Zealand':'orange', 'Norway':'mediumblue', 'Sweden':'teal', 'Switzerland':'yellowgreen'}\n",
    "scatter = ax.scatter(df['plot_HS_rank'], df['plot_SPI_rank'], s=df['display_dot_inv']*2500, c=df['country'].apply(lambda x: colors[x]))\n",
    "legend1 = ax.legend(*scatter.legend_elements(), loc=\"lower right\", title=\"Countries\")\n",
    "\n",
    "plt.ylim(-1,11)\n",
    "plt.xlim(-1,11)\n",
    "plt.title(\"Countries that Rank in the Top 10 in Both \\n Social Progress and Happiness Rankings (2015-2019)\", fontsize=15)\n",
    "plt.ylabel(\" Social Progress Rank\", fontsize=12)\n",
    "plt.xlabel(\"Happiness Rank\", fontsize=12)\n",
    "plt.grid(True, linestyle=\"-\", which=\"major\", color=\"gray\", alpha=0.25)\n",
    "\n",
    "#plt.savefig(\"Data/TopTenRanking.png\")\n",
    "plt.show()"
   ]
  },
  {
   "cell_type": "code",
   "execution_count": null,
   "metadata": {
    "scrolled": true
   },
   "outputs": [],
   "source": [
    "groups = ranking_country.groupby(\"Country\")\n",
    "colors = {'Australia':'crimson', 'Canada':'darkviolet', 'Denmark':'green', 'Finland':'deepskyblue', 'Netherlands':'gold', 'New Zealand':'orange', 'Norway':'mediumblue', 'Sweden':'teal', 'Switzerland':'yellowgreen'}\n",
    "\n",
    "for name, group in groups:\n",
    "    plt.plot(group[\"Rank_HS\"], group[\"Rank_SPI\"], marker=\"o\", markersize=20, linestyle=\"\", label=name,)\n",
    "\n",
    "plt.rcParams[\"figure.figsize\"] = (7,7)\n",
    "plt.rcParams[\"legend.markerscale\"] = 0.4\n",
    "\n",
    "plt.ylim(-1,11)\n",
    "plt.xlim(-1,11)\n",
    "plt.title(\"Countries that Rank in the Top 10 in Both \\n Social Progress and Happiness Rankings (2015-2019)\", fontsize=15)\n",
    "plt.ylabel(\" Social Progress Rank\", fontsize=12)\n",
    "plt.xlabel(\"Happiness Rank\", fontsize=12)\n",
    "plt.grid(True, linestyle=\"-\", which=\"major\", color=\"gray\", alpha=0.25)\n",
    "plt.legend()\n",
    "\n",
    "#plt.savefig(\"Data/TopTenRanking-alternate.png\")\n",
    "plt.show()"
   ]
  },
  {
   "cell_type": "code",
   "execution_count": null,
   "metadata": {},
   "outputs": [],
   "source": [
    "#Scatterplot all years \n",
    "x_values = totals_df[\"Score_HS\"]\n",
    "y_values = totals_df[\"Social Progress Index_SP\"]\n",
    "\n",
    "(slope, intercept, rvalue, pvalue, stderr) = linregress(x_values, y_values)\n",
    "regress_values = slope * x_values + intercept\n",
    "line_eq = \"y =\" + str(round(slope,2)) + \"x \" + str(round(intercept,2))\n",
    "\n",
    "plt.rcParams[\"figure.figsize\"] = (7,7)\n",
    "\n",
    "plt.title(\"Social Progress Index and Happiness Scores \\n for All Countries (2015-2019)\",  fontsize=15)\n",
    "plt.ylabel(\" Social Progress Index\",  fontsize=12)\n",
    "plt.xlabel(\"Happiness Score\",  fontsize=12)\n",
    "plt.ylim(20,100)\n",
    "plt.xlim(0,10)\n",
    "plt.grid(True, linestyle=\"-\", which=\"major\", color=\"gray\", alpha=0.25)\n",
    "plt.annotate(line_eq, (2,30), fontsize=12, color=\"red\")\n",
    "\n",
    "plt.scatter(x_values, y_values, color=\"black\", marker=\"o\")\n",
    "plt.plot(x_values, regress_values, \"r-\")\n",
    "\n",
    "#plt.savefig(\"Data/HP_SPI_scatter.png\")\n",
    "\n",
    "plt.show()\n",
    "\n",
    "#print r squared\n",
    "print(f\"R squared: {rvalue**2}\")"
   ]
  },
  {
   "cell_type": "code",
   "execution_count": null,
   "metadata": {},
   "outputs": [],
   "source": [
    "#Group by country\n",
    "grouped_totals_df = totals_df.groupby([\"Country\"])\n",
    "grouped_totals_df.mean()"
   ]
  },
  {
   "cell_type": "code",
   "execution_count": null,
   "metadata": {},
   "outputs": [],
   "source": [
    "#Converting groupby to a dataframe\n",
    "averages_df = pd.DataFrame(grouped_totals_df[\"Rank_HS\", \"Score_HS\", \"Rank_SPI\", \"Social Progress Index_SP\"].mean())"
   ]
  },
  {
   "cell_type": "code",
   "execution_count": null,
   "metadata": {
    "scrolled": true
   },
   "outputs": [],
   "source": [
    "#Scatterplot averaged data \n",
    "x_values = averages_df[\"Score_HS\"]\n",
    "y_values = averages_df[\"Social Progress Index_SP\"]\n",
    "\n",
    "plt.rcParams[\"figure.figsize\"] = (7,7)\n",
    "\n",
    "(slope, intercept, rvalue, pvalue, stderr) = linregress(x_values, y_values)\n",
    "regress_values = slope * x_values + intercept\n",
    "line_eq = \"y =\" + str(round(slope,2)) + \"x \" + str(round(intercept,2))\n",
    "\n",
    "plt.title(\"5-year Average Social Progress Index \\n and Happiness Score for Each Country\",  fontsize=15)\n",
    "plt.ylabel(\" Social Progress Index\",  fontsize=12)\n",
    "plt.xlabel(\"Happiness Score\",  fontsize=12)\n",
    "plt.ylim(20,100)\n",
    "plt.xlim(0,10)\n",
    "plt.grid(True, linestyle=\"-\", which=\"major\", color=\"gray\", alpha=0.25)\n",
    "plt.annotate(line_eq, (2,30), fontsize=12, color=\"red\")\n",
    "\n",
    "plt.scatter(x_values, y_values, color=\"black\", marker=\"o\")\n",
    "plt.plot(x_values, regress_values, \"r-\")\n",
    "\n",
    "#plt.savefig(\"Data/HP_SPI_5average_scatter.png\")\n",
    "\n",
    "plt.show()\n",
    "\n",
    "#print r squared\n",
    "print(f\"R squared: {rvalue**2}\")"
   ]
  }
 ],
 "metadata": {
  "kernelspec": {
   "display_name": "Python 3",
   "language": "python",
   "name": "python3"
  },
  "language_info": {
   "codemirror_mode": {
    "name": "ipython",
    "version": 3
   },
   "file_extension": ".py",
   "mimetype": "text/x-python",
   "name": "python",
   "nbconvert_exporter": "python",
   "pygments_lexer": "ipython3",
   "version": "3.6.10"
  }
 },
 "nbformat": 4,
 "nbformat_minor": 4
}
